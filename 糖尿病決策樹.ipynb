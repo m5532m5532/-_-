{
 "cells": [
  {
   "cell_type": "code",
   "execution_count": 2,
   "metadata": {},
   "outputs": [],
   "source": [
    "import pandas as pd"
   ]
  },
  {
   "cell_type": "code",
   "execution_count": 3,
   "metadata": {},
   "outputs": [],
   "source": [
    "df_6 = pd.read_csv(\"diabetes.csv\")"
   ]
  },
  {
   "cell_type": "code",
   "execution_count": 4,
   "metadata": {},
   "outputs": [],
   "source": [
    "from sklearn.tree import DecisionTreeClassifier\n",
    "from sklearn.model_selection import train_test_split\n",
    "from sklearn.metrics import classification_report, confusion_matrix\n",
    "from sklearn import tree\n",
    "import pydot"
   ]
  },
  {
   "cell_type": "code",
   "execution_count": 5,
   "metadata": {},
   "outputs": [
    {
     "name": "stderr",
     "output_type": "stream",
     "text": [
      "C:\\Users\\user\\anaconda3\\lib\\site-packages\\sklearn\\externals\\six.py:31: FutureWarning: The module is deprecated in version 0.21 and will be removed in version 0.23 since we've dropped support for Python 2.7. Please rely on the official version of six (https://pypi.org/project/six/).\n",
      "  \"(https://pypi.org/project/six/).\", FutureWarning)\n"
     ]
    }
   ],
   "source": [
    "from sklearn.externals.six import StringIO"
   ]
  },
  {
   "cell_type": "code",
   "execution_count": 6,
   "metadata": {},
   "outputs": [],
   "source": [
    "X = df_6.drop('Outcome', axis=1)\n",
    "y = df_6['Outcome']"
   ]
  },
  {
   "cell_type": "code",
   "execution_count": 7,
   "metadata": {},
   "outputs": [],
   "source": [
    "X_train, X_test, y_train, y_test = train_test_split(X, y, test_size=0.30)"
   ]
  },
  {
   "cell_type": "code",
   "execution_count": 8,
   "metadata": {},
   "outputs": [
    {
     "data": {
      "text/plain": [
       "DecisionTreeClassifier(ccp_alpha=0.0, class_weight=None, criterion='gini',\n",
       "                       max_depth=None, max_features=None, max_leaf_nodes=None,\n",
       "                       min_impurity_decrease=0.0, min_impurity_split=None,\n",
       "                       min_samples_leaf=1, min_samples_split=2,\n",
       "                       min_weight_fraction_leaf=0.0, presort='deprecated',\n",
       "                       random_state=None, splitter='best')"
      ]
     },
     "execution_count": 8,
     "metadata": {},
     "output_type": "execute_result"
    }
   ],
   "source": [
    "classifier = DecisionTreeClassifier()\n",
    "classifier.fit(X_train, y_train)"
   ]
  },
  {
   "cell_type": "code",
   "execution_count": 9,
   "metadata": {},
   "outputs": [],
   "source": [
    "y_pred = classifier.predict(X_test)"
   ]
  },
  {
   "cell_type": "code",
   "execution_count": 10,
   "metadata": {},
   "outputs": [
    {
     "name": "stdout",
     "output_type": "stream",
     "text": [
      "[[116  33]\n",
      " [ 36  46]]\n",
      "              precision    recall  f1-score   support\n",
      "\n",
      "           0       0.76      0.78      0.77       149\n",
      "           1       0.58      0.56      0.57        82\n",
      "\n",
      "    accuracy                           0.70       231\n",
      "   macro avg       0.67      0.67      0.67       231\n",
      "weighted avg       0.70      0.70      0.70       231\n",
      "\n"
     ]
    }
   ],
   "source": [
    "print(confusion_matrix(y_test, y_pred))\n",
    "print(classification_report(y_test, y_pred))"
   ]
  },
  {
   "cell_type": "code",
   "execution_count": 11,
   "metadata": {},
   "outputs": [],
   "source": [
    "dot_data = StringIO()"
   ]
  },
  {
   "cell_type": "code",
   "execution_count": 12,
   "metadata": {},
   "outputs": [],
   "source": [
    "tree.export_graphviz(classifier,\n",
    "        out_file=dot_data,\n",
    "        feature_names=['Pregnancie', 'Glucose', 'BloodPressure', 'SkinThickness',\n",
    "       'Insulin', 'BMI', 'DiabetesPedigreeFunction', 'Age '],\n",
    "        class_names=['0',\"1\"],\n",
    "        filled=True, rounded=True,\n",
    "        impurity=False)"
   ]
  },
  {
   "cell_type": "code",
   "execution_count": 13,
   "metadata": {},
   "outputs": [],
   "source": [
    "graph = pydot.graph_from_dot_data(dot_data.getvalue())"
   ]
  },
  {
   "cell_type": "markdown",
   "metadata": {},
   "source": [
    "畫出決策樹"
   ]
  },
  {
   "cell_type": "code",
   "execution_count": 14,
   "metadata": {},
   "outputs": [],
   "source": [
    "graph[0].write_pdf(\"MASS01.pdf\")"
   ]
  },
  {
   "cell_type": "code",
   "execution_count": 15,
   "metadata": {},
   "outputs": [
    {
     "data": {
      "text/plain": [
       "[Text(139.7897922636103, 209.6742857142857, 'X[1] <= 123.5\\ngini = 0.453\\nsamples = 537\\nvalue = [351, 186]'),\n",
       " Text(48.08553008595989, 194.14285714285714, 'X[7] <= 28.5\\ngini = 0.299\\nsamples = 322\\nvalue = [263, 59]'),\n",
       " Text(26.860744985673353, 178.61142857142858, 'X[5] <= 49.1\\ngini = 0.147\\nsamples = 175\\nvalue = [161, 14]'),\n",
       " Text(19.186246418338108, 163.07999999999998, 'X[0] <= 7.5\\ngini = 0.13\\nsamples = 172\\nvalue = [160, 12]'),\n",
       " Text(15.348997134670487, 147.54857142857142, 'X[5] <= 30.95\\ngini = 0.12\\nsamples = 171\\nvalue = [160, 11]'),\n",
       " Text(7.6744985673352435, 132.01714285714286, 'X[6] <= 0.657\\ngini = 0.021\\nsamples = 93\\nvalue = [92, 1]'),\n",
       " Text(3.8372492836676217, 116.48571428571428, 'gini = 0.0\\nsamples = 79\\nvalue = [79, 0]'),\n",
       " Text(11.511747851002866, 116.48571428571428, 'X[6] <= 0.686\\ngini = 0.133\\nsamples = 14\\nvalue = [13, 1]'),\n",
       " Text(7.6744985673352435, 100.9542857142857, 'gini = 0.0\\nsamples = 1\\nvalue = [0, 1]'),\n",
       " Text(15.348997134670487, 100.9542857142857, 'gini = 0.0\\nsamples = 13\\nvalue = [13, 0]'),\n",
       " Text(23.023495702005732, 132.01714285714286, 'X[2] <= 22.0\\ngini = 0.224\\nsamples = 78\\nvalue = [68, 10]'),\n",
       " Text(19.186246418338108, 116.48571428571428, 'gini = 0.0\\nsamples = 1\\nvalue = [0, 1]'),\n",
       " Text(26.860744985673353, 116.48571428571428, 'X[6] <= 1.272\\ngini = 0.206\\nsamples = 77\\nvalue = [68, 9]'),\n",
       " Text(23.023495702005732, 100.9542857142857, 'X[5] <= 31.75\\ngini = 0.188\\nsamples = 76\\nvalue = [68, 8]'),\n",
       " Text(12.47106017191977, 85.42285714285714, 'X[0] <= 2.5\\ngini = 0.48\\nsamples = 5\\nvalue = [3, 2]'),\n",
       " Text(8.63381088825215, 69.89142857142858, 'gini = 0.0\\nsamples = 3\\nvalue = [3, 0]'),\n",
       " Text(16.30830945558739, 69.89142857142858, 'gini = 0.0\\nsamples = 2\\nvalue = [0, 2]'),\n",
       " Text(33.57593123209169, 85.42285714285714, 'X[0] <= 0.5\\ngini = 0.155\\nsamples = 71\\nvalue = [65, 6]'),\n",
       " Text(23.982808022922637, 69.89142857142858, 'X[5] <= 34.25\\ngini = 0.32\\nsamples = 20\\nvalue = [16, 4]'),\n",
       " Text(16.30830945558739, 54.359999999999985, 'X[1] <= 97.5\\ngini = 0.444\\nsamples = 3\\nvalue = [1, 2]'),\n",
       " Text(12.47106017191977, 38.82857142857142, 'gini = 0.0\\nsamples = 1\\nvalue = [1, 0]'),\n",
       " Text(20.145558739255016, 38.82857142857142, 'gini = 0.0\\nsamples = 2\\nvalue = [0, 2]'),\n",
       " Text(31.65730659025788, 54.359999999999985, 'X[6] <= 0.741\\ngini = 0.208\\nsamples = 17\\nvalue = [15, 2]'),\n",
       " Text(27.820057306590257, 38.82857142857142, 'X[2] <= 83.5\\ngini = 0.117\\nsamples = 16\\nvalue = [15, 1]'),\n",
       " Text(23.982808022922637, 23.29714285714286, 'gini = 0.0\\nsamples = 14\\nvalue = [14, 0]'),\n",
       " Text(31.65730659025788, 23.29714285714286, 'X[3] <= 27.0\\ngini = 0.5\\nsamples = 2\\nvalue = [1, 1]'),\n",
       " Text(27.820057306590257, 7.765714285714267, 'gini = 0.0\\nsamples = 1\\nvalue = [0, 1]'),\n",
       " Text(35.4945558739255, 7.765714285714267, 'gini = 0.0\\nsamples = 1\\nvalue = [1, 0]'),\n",
       " Text(35.4945558739255, 38.82857142857142, 'gini = 0.0\\nsamples = 1\\nvalue = [0, 1]'),\n",
       " Text(43.16905444126075, 69.89142857142858, 'X[6] <= 0.135\\ngini = 0.075\\nsamples = 51\\nvalue = [49, 2]'),\n",
       " Text(39.331805157593124, 54.359999999999985, 'gini = 0.0\\nsamples = 1\\nvalue = [0, 1]'),\n",
       " Text(47.006303724928365, 54.359999999999985, 'X[6] <= 0.664\\ngini = 0.039\\nsamples = 50\\nvalue = [49, 1]'),\n",
       " Text(43.16905444126075, 38.82857142857142, 'gini = 0.0\\nsamples = 40\\nvalue = [40, 0]'),\n",
       " Text(50.84355300859599, 38.82857142857142, 'X[4] <= 159.0\\ngini = 0.18\\nsamples = 10\\nvalue = [9, 1]'),\n",
       " Text(47.006303724928365, 23.29714285714286, 'gini = 0.0\\nsamples = 9\\nvalue = [9, 0]'),\n",
       " Text(54.68080229226361, 23.29714285714286, 'gini = 0.0\\nsamples = 1\\nvalue = [0, 1]'),\n",
       " Text(30.697994269340974, 100.9542857142857, 'gini = 0.0\\nsamples = 1\\nvalue = [0, 1]'),\n",
       " Text(23.023495702005732, 147.54857142857142, 'gini = 0.0\\nsamples = 1\\nvalue = [0, 1]'),\n",
       " Text(34.5352435530086, 163.07999999999998, 'X[1] <= 119.0\\ngini = 0.444\\nsamples = 3\\nvalue = [1, 2]'),\n",
       " Text(30.697994269340974, 147.54857142857142, 'gini = 0.0\\nsamples = 2\\nvalue = [0, 2]'),\n",
       " Text(38.372492836676216, 147.54857142857142, 'gini = 0.0\\nsamples = 1\\nvalue = [1, 0]'),\n",
       " Text(69.31031518624641, 178.61142857142858, 'X[5] <= 26.35\\ngini = 0.425\\nsamples = 147\\nvalue = [102, 45]'),\n",
       " Text(50.84355300859599, 163.07999999999998, 'X[5] <= 9.65\\ngini = 0.064\\nsamples = 30\\nvalue = [29, 1]'),\n",
       " Text(47.006303724928365, 147.54857142857142, 'gini = 0.0\\nsamples = 1\\nvalue = [0, 1]'),\n",
       " Text(54.68080229226361, 147.54857142857142, 'gini = 0.0\\nsamples = 29\\nvalue = [29, 0]'),\n",
       " Text(87.77707736389685, 163.07999999999998, 'X[1] <= 99.5\\ngini = 0.469\\nsamples = 117\\nvalue = [73, 44]'),\n",
       " Text(62.355300859598856, 147.54857142857142, 'X[1] <= 28.5\\ngini = 0.292\\nsamples = 45\\nvalue = [37, 8]'),\n",
       " Text(58.51805157593123, 132.01714285714286, 'gini = 0.0\\nsamples = 2\\nvalue = [0, 2]'),\n",
       " Text(66.19255014326647, 132.01714285714286, 'X[6] <= 0.796\\ngini = 0.24\\nsamples = 43\\nvalue = [37, 6]'),\n",
       " Text(54.68080229226361, 116.48571428571428, 'X[7] <= 42.5\\ngini = 0.149\\nsamples = 37\\nvalue = [34, 3]'),\n",
       " Text(50.84355300859599, 100.9542857142857, 'gini = 0.0\\nsamples = 26\\nvalue = [26, 0]'),\n",
       " Text(58.51805157593123, 100.9542857142857, 'X[5] <= 30.85\\ngini = 0.397\\nsamples = 11\\nvalue = [8, 3]'),\n",
       " Text(54.68080229226361, 85.42285714285714, 'gini = 0.0\\nsamples = 1\\nvalue = [0, 1]'),\n",
       " Text(62.355300859598856, 85.42285714285714, 'X[0] <= 5.5\\ngini = 0.32\\nsamples = 10\\nvalue = [8, 2]'),\n",
       " Text(58.51805157593123, 69.89142857142858, 'X[1] <= 81.0\\ngini = 0.5\\nsamples = 4\\nvalue = [2, 2]'),\n",
       " Text(54.68080229226361, 54.359999999999985, 'gini = 0.0\\nsamples = 2\\nvalue = [2, 0]'),\n",
       " Text(62.355300859598856, 54.359999999999985, 'gini = 0.0\\nsamples = 2\\nvalue = [0, 2]'),\n",
       " Text(66.19255014326647, 69.89142857142858, 'gini = 0.0\\nsamples = 6\\nvalue = [6, 0]'),\n",
       " Text(77.70429799426934, 116.48571428571428, 'X[3] <= 35.5\\ngini = 0.5\\nsamples = 6\\nvalue = [3, 3]'),\n",
       " Text(73.86704871060172, 100.9542857142857, 'X[3] <= 20.0\\ngini = 0.375\\nsamples = 4\\nvalue = [1, 3]'),\n",
       " Text(70.02979942693409, 85.42285714285714, 'gini = 0.0\\nsamples = 1\\nvalue = [1, 0]'),\n",
       " Text(77.70429799426934, 85.42285714285714, 'gini = 0.0\\nsamples = 3\\nvalue = [0, 3]'),\n",
       " Text(81.54154727793696, 100.9542857142857, 'gini = 0.0\\nsamples = 2\\nvalue = [2, 0]'),\n",
       " Text(113.19885386819485, 147.54857142857142, 'X[6] <= 0.609\\ngini = 0.5\\nsamples = 72\\nvalue = [36, 36]'),\n",
       " Text(89.2160458452722, 132.01714285714286, 'X[5] <= 27.55\\ngini = 0.484\\nsamples = 51\\nvalue = [30, 21]'),\n",
       " Text(85.37879656160459, 116.48571428571428, 'gini = 0.0\\nsamples = 3\\nvalue = [0, 3]'),\n",
       " Text(93.05329512893982, 116.48571428571428, 'X[5] <= 28.85\\ngini = 0.469\\nsamples = 48\\nvalue = [30, 18]'),\n",
       " Text(89.2160458452722, 100.9542857142857, 'gini = 0.0\\nsamples = 6\\nvalue = [6, 0]'),\n",
       " Text(96.89054441260745, 100.9542857142857, 'X[6] <= 0.179\\ngini = 0.49\\nsamples = 42\\nvalue = [24, 18]'),\n",
       " Text(93.05329512893982, 85.42285714285714, 'gini = 0.0\\nsamples = 5\\nvalue = [5, 0]'),\n",
       " Text(100.72779369627507, 85.42285714285714, 'X[0] <= 5.5\\ngini = 0.5\\nsamples = 37\\nvalue = [19, 18]'),\n",
       " Text(87.29742120343839, 69.89142857142858, 'X[2] <= 78.0\\ngini = 0.444\\nsamples = 21\\nvalue = [14, 7]'),\n",
       " Text(83.46017191977077, 54.359999999999985, 'X[6] <= 0.385\\ngini = 0.5\\nsamples = 14\\nvalue = [7, 7]'),\n",
       " Text(75.78567335243552, 38.82857142857142, 'X[3] <= 36.5\\ngini = 0.245\\nsamples = 7\\nvalue = [1, 6]'),\n",
       " Text(71.9484240687679, 23.29714285714286, 'gini = 0.0\\nsamples = 6\\nvalue = [0, 6]'),\n",
       " Text(79.62292263610316, 23.29714285714286, 'gini = 0.0\\nsamples = 1\\nvalue = [1, 0]'),\n",
       " Text(91.13467048710602, 38.82857142857142, 'X[0] <= 2.0\\ngini = 0.245\\nsamples = 7\\nvalue = [6, 1]'),\n",
       " Text(87.29742120343839, 23.29714285714286, 'X[7] <= 37.0\\ngini = 0.5\\nsamples = 2\\nvalue = [1, 1]'),\n",
       " Text(83.46017191977077, 7.765714285714267, 'gini = 0.0\\nsamples = 1\\nvalue = [0, 1]'),\n",
       " Text(91.13467048710602, 7.765714285714267, 'gini = 0.0\\nsamples = 1\\nvalue = [1, 0]'),\n",
       " Text(94.97191977077364, 23.29714285714286, 'gini = 0.0\\nsamples = 5\\nvalue = [5, 0]'),\n",
       " Text(91.13467048710602, 54.359999999999985, 'gini = 0.0\\nsamples = 7\\nvalue = [7, 0]'),\n",
       " Text(114.15816618911175, 69.89142857142858, 'X[7] <= 45.5\\ngini = 0.43\\nsamples = 16\\nvalue = [5, 11]'),\n",
       " Text(110.32091690544412, 54.359999999999985, 'X[3] <= 39.5\\ngini = 0.26\\nsamples = 13\\nvalue = [2, 11]'),\n",
       " Text(106.4836676217765, 38.82857142857142, 'X[1] <= 121.0\\ngini = 0.153\\nsamples = 12\\nvalue = [1, 11]'),\n",
       " Text(102.64641833810889, 23.29714285714286, 'gini = 0.0\\nsamples = 11\\nvalue = [0, 11]'),\n",
       " Text(110.32091690544412, 23.29714285714286, 'gini = 0.0\\nsamples = 1\\nvalue = [1, 0]'),\n",
       " Text(114.15816618911175, 38.82857142857142, 'gini = 0.0\\nsamples = 1\\nvalue = [1, 0]'),\n",
       " Text(117.99541547277937, 54.359999999999985, 'gini = 0.0\\nsamples = 3\\nvalue = [3, 0]'),\n",
       " Text(137.18166189111747, 132.01714285714286, 'X[3] <= 47.5\\ngini = 0.408\\nsamples = 21\\nvalue = [6, 15]'),\n",
       " Text(133.34441260744987, 116.48571428571428, 'X[3] <= 24.5\\ngini = 0.332\\nsamples = 19\\nvalue = [4, 15]'),\n",
       " Text(129.50716332378224, 100.9542857142857, 'X[0] <= 6.5\\ngini = 0.5\\nsamples = 8\\nvalue = [4, 4]'),\n",
       " Text(125.6699140401146, 85.42285714285714, 'X[1] <= 106.0\\ngini = 0.444\\nsamples = 6\\nvalue = [4, 2]'),\n",
       " Text(121.83266475644699, 69.89142857142858, 'gini = 0.0\\nsamples = 2\\nvalue = [0, 2]'),\n",
       " Text(129.50716332378224, 69.89142857142858, 'gini = 0.0\\nsamples = 4\\nvalue = [4, 0]'),\n",
       " Text(133.34441260744987, 85.42285714285714, 'gini = 0.0\\nsamples = 2\\nvalue = [0, 2]'),\n",
       " Text(137.18166189111747, 100.9542857142857, 'gini = 0.0\\nsamples = 11\\nvalue = [0, 11]'),\n",
       " Text(141.0189111747851, 116.48571428571428, 'gini = 0.0\\nsamples = 2\\nvalue = [2, 0]'),\n",
       " Text(231.49405444126074, 194.14285714285714, 'X[5] <= 30.05\\ngini = 0.484\\nsamples = 215\\nvalue = [88, 127]'),\n",
       " Text(181.78968481375358, 178.61142857142858, 'X[7] <= 26.5\\ngini = 0.455\\nsamples = 63\\nvalue = [41, 22]'),\n",
       " Text(160.2051575931232, 163.07999999999998, 'X[5] <= 28.8\\ngini = 0.18\\nsamples = 20\\nvalue = [18, 2]'),\n",
       " Text(156.36790830945557, 147.54857142857142, 'X[2] <= 56.0\\ngini = 0.1\\nsamples = 19\\nvalue = [18, 1]'),\n",
       " Text(152.53065902578797, 132.01714285714286, 'X[4] <= 41.5\\ngini = 0.5\\nsamples = 2\\nvalue = [1, 1]'),\n",
       " Text(148.69340974212034, 116.48571428571428, 'gini = 0.0\\nsamples = 1\\nvalue = [0, 1]'),\n",
       " Text(156.36790830945557, 116.48571428571428, 'gini = 0.0\\nsamples = 1\\nvalue = [1, 0]'),\n",
       " Text(160.2051575931232, 132.01714285714286, 'gini = 0.0\\nsamples = 17\\nvalue = [17, 0]'),\n",
       " Text(164.04240687679084, 147.54857142857142, 'gini = 0.0\\nsamples = 1\\nvalue = [0, 1]'),\n",
       " Text(203.37421203438396, 163.07999999999998, 'X[7] <= 54.5\\ngini = 0.498\\nsamples = 43\\nvalue = [23, 20]'),\n",
       " Text(188.98452722063038, 147.54857142857142, 'X[5] <= 28.45\\ngini = 0.489\\nsamples = 33\\nvalue = [14, 19]'),\n",
       " Text(171.71690544412607, 132.01714285714286, 'X[6] <= 0.213\\ngini = 0.434\\nsamples = 22\\nvalue = [7, 15]'),\n",
       " Text(164.04240687679084, 116.48571428571428, 'X[2] <= 68.5\\ngini = 0.375\\nsamples = 4\\nvalue = [3, 1]'),\n",
       " Text(160.2051575931232, 100.9542857142857, 'gini = 0.0\\nsamples = 1\\nvalue = [0, 1]'),\n",
       " Text(167.87965616045844, 100.9542857142857, 'gini = 0.0\\nsamples = 3\\nvalue = [3, 0]'),\n",
       " Text(179.3914040114613, 116.48571428571428, 'X[1] <= 143.5\\ngini = 0.346\\nsamples = 18\\nvalue = [4, 14]'),\n",
       " Text(175.5541547277937, 100.9542857142857, 'X[1] <= 131.5\\ngini = 0.463\\nsamples = 11\\nvalue = [4, 7]'),\n",
       " Text(167.87965616045844, 85.42285714285714, 'X[7] <= 27.5\\ngini = 0.245\\nsamples = 7\\nvalue = [1, 6]'),\n",
       " Text(164.04240687679084, 69.89142857142858, 'gini = 0.0\\nsamples = 1\\nvalue = [1, 0]'),\n",
       " Text(171.71690544412607, 69.89142857142858, 'gini = 0.0\\nsamples = 6\\nvalue = [0, 6]'),\n",
       " Text(183.22865329512894, 85.42285714285714, 'X[2] <= 79.0\\ngini = 0.375\\nsamples = 4\\nvalue = [3, 1]'),\n",
       " Text(179.3914040114613, 69.89142857142858, 'gini = 0.0\\nsamples = 3\\nvalue = [3, 0]'),\n",
       " Text(187.06590257879657, 69.89142857142858, 'gini = 0.0\\nsamples = 1\\nvalue = [0, 1]'),\n",
       " Text(183.22865329512894, 100.9542857142857, 'gini = 0.0\\nsamples = 7\\nvalue = [0, 7]'),\n",
       " Text(206.25214899713467, 132.01714285714286, 'X[0] <= 3.5\\ngini = 0.463\\nsamples = 11\\nvalue = [7, 4]'),\n",
       " Text(198.57765042979943, 116.48571428571428, 'X[3] <= 9.5\\ngini = 0.375\\nsamples = 4\\nvalue = [1, 3]'),\n",
       " Text(194.7404011461318, 100.9542857142857, 'X[1] <= 143.5\\ngini = 0.5\\nsamples = 2\\nvalue = [1, 1]'),\n",
       " Text(190.90315186246417, 85.42285714285714, 'gini = 0.0\\nsamples = 1\\nvalue = [0, 1]'),\n",
       " Text(198.57765042979943, 85.42285714285714, 'gini = 0.0\\nsamples = 1\\nvalue = [1, 0]'),\n",
       " Text(202.41489971346704, 100.9542857142857, 'gini = 0.0\\nsamples = 2\\nvalue = [0, 2]'),\n",
       " Text(213.9266475644699, 116.48571428571428, 'X[6] <= 0.194\\ngini = 0.245\\nsamples = 7\\nvalue = [6, 1]'),\n",
       " Text(210.0893982808023, 100.9542857142857, 'gini = 0.0\\nsamples = 1\\nvalue = [0, 1]'),\n",
       " Text(217.76389684813753, 100.9542857142857, 'gini = 0.0\\nsamples = 6\\nvalue = [6, 0]'),\n",
       " Text(217.76389684813753, 147.54857142857142, 'X[1] <= 177.5\\ngini = 0.18\\nsamples = 10\\nvalue = [9, 1]'),\n",
       " Text(213.9266475644699, 132.01714285714286, 'gini = 0.0\\nsamples = 9\\nvalue = [9, 0]'),\n",
       " Text(221.60114613180517, 132.01714285714286, 'gini = 0.0\\nsamples = 1\\nvalue = [0, 1]'),\n",
       " Text(281.1984240687679, 178.61142857142858, 'X[6] <= 0.312\\ngini = 0.427\\nsamples = 152\\nvalue = [47, 105]'),\n",
       " Text(246.54326647564469, 163.07999999999998, 'X[7] <= 37.5\\ngini = 0.499\\nsamples = 54\\nvalue = [26, 28]'),\n",
       " Text(233.11289398280803, 147.54857142857142, 'X[2] <= 55.0\\ngini = 0.444\\nsamples = 30\\nvalue = [20, 10]'),\n",
       " Text(229.2756446991404, 132.01714285714286, 'gini = 0.0\\nsamples = 4\\nvalue = [0, 4]'),\n",
       " Text(236.95014326647564, 132.01714285714286, 'X[3] <= 39.0\\ngini = 0.355\\nsamples = 26\\nvalue = [20, 6]'),\n",
       " Text(229.2756446991404, 116.48571428571428, 'X[5] <= 44.2\\ngini = 0.245\\nsamples = 21\\nvalue = [18, 3]'),\n",
       " Text(225.43839541547277, 100.9542857142857, 'X[5] <= 32.0\\ngini = 0.18\\nsamples = 20\\nvalue = [18, 2]'),\n",
       " Text(221.60114613180517, 85.42285714285714, 'X[3] <= 16.5\\ngini = 0.444\\nsamples = 6\\nvalue = [4, 2]'),\n",
       " Text(217.76389684813753, 69.89142857142858, 'gini = 0.0\\nsamples = 4\\nvalue = [4, 0]'),\n",
       " Text(225.43839541547277, 69.89142857142858, 'gini = 0.0\\nsamples = 2\\nvalue = [0, 2]'),\n",
       " Text(229.2756446991404, 85.42285714285714, 'gini = 0.0\\nsamples = 14\\nvalue = [14, 0]'),\n",
       " Text(233.11289398280803, 100.9542857142857, 'gini = 0.0\\nsamples = 1\\nvalue = [0, 1]'),\n",
       " Text(244.6246418338109, 116.48571428571428, 'X[5] <= 37.8\\ngini = 0.48\\nsamples = 5\\nvalue = [2, 3]'),\n",
       " Text(240.78739255014327, 100.9542857142857, 'gini = 0.0\\nsamples = 2\\nvalue = [0, 2]'),\n",
       " Text(248.4618911174785, 100.9542857142857, 'X[4] <= 382.5\\ngini = 0.444\\nsamples = 3\\nvalue = [2, 1]'),\n",
       " Text(244.6246418338109, 85.42285714285714, 'gini = 0.0\\nsamples = 2\\nvalue = [2, 0]'),\n",
       " Text(252.29914040114613, 85.42285714285714, 'gini = 0.0\\nsamples = 1\\nvalue = [0, 1]'),\n",
       " Text(259.9736389684814, 147.54857142857142, 'X[6] <= 0.178\\ngini = 0.375\\nsamples = 24\\nvalue = [6, 18]'),\n",
       " Text(256.13638968481376, 132.01714285714286, 'gini = 0.0\\nsamples = 10\\nvalue = [0, 10]'),\n",
       " Text(263.81088825214897, 132.01714285714286, 'X[6] <= 0.219\\ngini = 0.49\\nsamples = 14\\nvalue = [6, 8]'),\n",
       " Text(259.9736389684814, 116.48571428571428, 'gini = 0.0\\nsamples = 4\\nvalue = [4, 0]'),\n",
       " Text(267.6481375358166, 116.48571428571428, 'X[6] <= 0.293\\ngini = 0.32\\nsamples = 10\\nvalue = [2, 8]'),\n",
       " Text(263.81088825214897, 100.9542857142857, 'X[3] <= 30.5\\ngini = 0.198\\nsamples = 9\\nvalue = [1, 8]'),\n",
       " Text(259.9736389684814, 85.42285714285714, 'gini = 0.0\\nsamples = 7\\nvalue = [0, 7]'),\n",
       " Text(267.6481375358166, 85.42285714285714, 'X[3] <= 36.0\\ngini = 0.5\\nsamples = 2\\nvalue = [1, 1]'),\n",
       " Text(263.81088825214897, 69.89142857142858, 'gini = 0.0\\nsamples = 1\\nvalue = [1, 0]'),\n",
       " Text(271.48538681948423, 69.89142857142858, 'gini = 0.0\\nsamples = 1\\nvalue = [0, 1]'),\n",
       " Text(271.48538681948423, 100.9542857142857, 'gini = 0.0\\nsamples = 1\\nvalue = [1, 0]'),\n",
       " Text(315.8535816618911, 163.07999999999998, 'X[4] <= 475.0\\ngini = 0.337\\nsamples = 98\\nvalue = [21, 77]'),\n",
       " Text(304.58166189111745, 147.54857142857142, 'X[1] <= 165.5\\ngini = 0.299\\nsamples = 93\\nvalue = [17, 76]'),\n",
       " Text(293.54957020057304, 132.01714285714286, 'X[7] <= 24.5\\ngini = 0.383\\nsamples = 62\\nvalue = [16, 46]'),\n",
       " Text(282.9971346704871, 116.48571428571428, 'X[4] <= 199.0\\ngini = 0.496\\nsamples = 11\\nvalue = [6, 5]'),\n",
       " Text(279.1598853868195, 100.9542857142857, 'X[3] <= 38.5\\ngini = 0.408\\nsamples = 7\\nvalue = [2, 5]'),\n",
       " Text(275.32263610315186, 85.42285714285714, 'gini = 0.0\\nsamples = 4\\nvalue = [0, 4]'),\n",
       " Text(282.9971346704871, 85.42285714285714, 'X[4] <= 97.0\\ngini = 0.444\\nsamples = 3\\nvalue = [2, 1]'),\n",
       " Text(279.1598853868195, 69.89142857142858, 'gini = 0.0\\nsamples = 2\\nvalue = [2, 0]'),\n",
       " Text(286.8343839541547, 69.89142857142858, 'gini = 0.0\\nsamples = 1\\nvalue = [0, 1]'),\n",
       " Text(286.8343839541547, 100.9542857142857, 'gini = 0.0\\nsamples = 4\\nvalue = [4, 0]'),\n",
       " Text(304.102005730659, 116.48571428571428, 'X[5] <= 32.75\\ngini = 0.315\\nsamples = 51\\nvalue = [10, 41]'),\n",
       " Text(300.2647564469914, 100.9542857142857, 'gini = 0.0\\nsamples = 14\\nvalue = [0, 14]'),\n",
       " Text(307.93925501432665, 100.9542857142857, 'X[1] <= 163.5\\ngini = 0.394\\nsamples = 37\\nvalue = [10, 27]'),\n",
       " Text(304.102005730659, 85.42285714285714, 'X[6] <= 0.587\\ngini = 0.353\\nsamples = 35\\nvalue = [8, 27]'),\n",
       " Text(294.50888252148997, 69.89142857142858, 'X[5] <= 33.8\\ngini = 0.111\\nsamples = 17\\nvalue = [1, 16]'),\n",
       " Text(290.67163323782233, 54.359999999999985, 'gini = 0.0\\nsamples = 1\\nvalue = [1, 0]'),\n",
       " Text(298.3461318051576, 54.359999999999985, 'gini = 0.0\\nsamples = 16\\nvalue = [0, 16]'),\n",
       " Text(313.69512893982807, 69.89142857142858, 'X[2] <= 80.0\\ngini = 0.475\\nsamples = 18\\nvalue = [7, 11]'),\n",
       " Text(306.02063037249286, 54.359999999999985, 'X[6] <= 0.717\\ngini = 0.278\\nsamples = 12\\nvalue = [2, 10]'),\n",
       " Text(302.18338108882523, 38.82857142857142, 'X[4] <= 60.0\\ngini = 0.444\\nsamples = 3\\nvalue = [2, 1]'),\n",
       " Text(298.3461318051576, 23.29714285714286, 'gini = 0.0\\nsamples = 1\\nvalue = [0, 1]'),\n",
       " Text(306.02063037249286, 23.29714285714286, 'gini = 0.0\\nsamples = 2\\nvalue = [2, 0]'),\n",
       " Text(309.85787965616043, 38.82857142857142, 'gini = 0.0\\nsamples = 9\\nvalue = [0, 9]'),\n",
       " Text(321.36962750716333, 54.359999999999985, 'X[4] <= 196.0\\ngini = 0.278\\nsamples = 6\\nvalue = [5, 1]'),\n",
       " Text(317.5323782234957, 38.82857142857142, 'gini = 0.0\\nsamples = 5\\nvalue = [5, 0]'),\n",
       " Text(325.20687679083096, 38.82857142857142, 'gini = 0.0\\nsamples = 1\\nvalue = [0, 1]'),\n",
       " Text(311.7765042979943, 85.42285714285714, 'gini = 0.0\\nsamples = 2\\nvalue = [2, 0]'),\n",
       " Text(315.6137535816619, 132.01714285714286, 'X[5] <= 46.1\\ngini = 0.062\\nsamples = 31\\nvalue = [1, 30]'),\n",
       " Text(311.7765042979943, 116.48571428571428, 'gini = 0.0\\nsamples = 29\\nvalue = [0, 29]'),\n",
       " Text(319.4510028653295, 116.48571428571428, 'X[7] <= 41.5\\ngini = 0.5\\nsamples = 2\\nvalue = [1, 1]'),\n",
       " Text(315.6137535816619, 100.9542857142857, 'gini = 0.0\\nsamples = 1\\nvalue = [0, 1]'),\n",
       " Text(323.2882521489971, 100.9542857142857, 'gini = 0.0\\nsamples = 1\\nvalue = [1, 0]'),\n",
       " Text(327.12550143266475, 147.54857142857142, 'X[2] <= 65.0\\ngini = 0.32\\nsamples = 5\\nvalue = [4, 1]'),\n",
       " Text(323.2882521489971, 132.01714285714286, 'gini = 0.0\\nsamples = 1\\nvalue = [0, 1]'),\n",
       " Text(330.9627507163324, 132.01714285714286, 'gini = 0.0\\nsamples = 4\\nvalue = [4, 0]')]"
      ]
     },
     "execution_count": 15,
     "metadata": {},
     "output_type": "execute_result"
    },
    {
     "data": {
      "image/png": "[encoded data removed]",
      "text/plain": [
       "<Figure size 432x288 with 1 Axes>"
      ]
     },
     "metadata": {
      "needs_background": "light"
     },
     "output_type": "display_data"
    }
   ],
   "source": [
    "tree.plot_tree(classifier)"
   ]
  },
  {
   "cell_type": "markdown",
   "metadata": {},
   "source": [
    "修剪"
   ]
  },
  {
   "cell_type": "code",
   "execution_count": 16,
   "metadata": {},
   "outputs": [],
   "source": [
    "import matplotlib.pyplot as plt"
   ]
  },
  {
   "cell_type": "code",
   "execution_count": 17,
   "metadata": {},
   "outputs": [],
   "source": [
    "clf = DecisionTreeClassifier(random_state=0)\n",
    "path = clf.cost_complexity_pruning_path(X_train, y_train)\n",
    "ccp_alphas, impurities = path.ccp_alphas, path.impurities"
   ]
  },
  {
   "cell_type": "code",
   "execution_count": 17,
   "metadata": {},
   "outputs": [
    {
     "data": {
      "text/plain": [
       "Text(0.5, 1.0, 'Total Impurity vs effective alpha for training set')"
      ]
     },
     "execution_count": 17,
     "metadata": {},
     "output_type": "execute_result"
    },
    {
     "data": {
      "image/png": "[encoded data removed]",
      "text/plain": [
       "<Figure size 432x288 with 1 Axes>"
      ]
     },
     "metadata": {
      "needs_background": "light"
     },
     "output_type": "display_data"
    }
   ],
   "source": [
    "fig, ax = plt.subplots()\n",
    "ax.plot(ccp_alphas[:-1], impurities[:-1], marker='o', drawstyle=\"steps-post\")\n",
    "ax.set_xlabel(\"effective alpha\")\n",
    "ax.set_ylabel(\"total impurity of leaves\")\n",
    "ax.set_title(\"Total Impurity vs effective alpha for training set\")"
   ]
  },
  {
   "cell_type": "code",
   "execution_count": 18,
   "metadata": {},
   "outputs": [
    {
     "name": "stdout",
     "output_type": "stream",
     "text": [
      "Number of nodes in the last tree is: 1 with ccp_alpha: 0.09879738007523431\n"
     ]
    }
   ],
   "source": [
    "clfs = []\n",
    "for ccp_alpha in ccp_alphas:\n",
    "    clf = DecisionTreeClassifier(random_state=0, ccp_alpha=ccp_alpha)\n",
    "    clf.fit(X_train, y_train)\n",
    "    clfs.append(clf)\n",
    "print(\"Number of nodes in the last tree is: {} with ccp_alpha: {}\".format(\n",
    "      clfs[-1].tree_.node_count, ccp_alphas[-1]))"
   ]
  },
  {
   "cell_type": "code",
   "execution_count": 19,
   "metadata": {},
   "outputs": [
    {
     "data": {
      "image/png": "[encoded data removed]",
      "text/plain": [
       "<Figure size 432x288 with 2 Axes>"
      ]
     },
     "metadata": {
      "needs_background": "light"
     },
     "output_type": "display_data"
    }
   ],
   "source": [
    "clfs = clfs[:-1]\n",
    "ccp_alphas = ccp_alphas[:-1]\n",
    "node_counts = [clf.tree_.node_count for clf in clfs]\n",
    "depth = [clf.tree_.max_depth for clf in clfs]\n",
    "fig, ax = plt.subplots(2, 1)\n",
    "ax[0].plot(ccp_alphas, node_counts, marker='o', drawstyle=\"steps-post\")\n",
    "ax[0].set_xlabel(\"alpha\")\n",
    "ax[0].set_ylabel(\"number of nodes\")\n",
    "ax[0].set_title(\"Number of nodes vs alpha\")\n",
    "ax[1].plot(ccp_alphas, depth, marker='o', drawstyle=\"steps-post\")\n",
    "ax[1].set_xlabel(\"alpha\")\n",
    "ax[1].set_ylabel(\"depth of tree\")\n",
    "ax[1].set_title(\"Depth vs alpha\")\n",
    "fig.tight_layout()"
   ]
  },
  {
   "cell_type": "markdown",
   "metadata": {},
   "source": [
    "得出避免過度訓練的alpha值\n",
    "1. alpha 為0.008"
   ]
  },
  {
   "cell_type": "code",
   "execution_count": 20,
   "metadata": {},
   "outputs": [
    {
     "data": {
      "image/png": "[encoded data removed]",
      "text/plain": [
       "<Figure size 432x288 with 1 Axes>"
      ]
     },
     "metadata": {
      "needs_background": "light"
     },
     "output_type": "display_data"
    }
   ],
   "source": [
    "train_scores = [clf.score(X_train, y_train) for clf in clfs]\n",
    "test_scores = [clf.score(X_test, y_test) for clf in clfs]\n",
    "\n",
    "fig, ax = plt.subplots()\n",
    "ax.set_xlabel(\"alpha\")\n",
    "ax.set_ylabel(\"accuracy\")\n",
    "ax.set_title(\"Accuracy vs alpha for training and testing sets\")\n",
    "ax.plot(ccp_alphas, train_scores, marker='o', label=\"train\",\n",
    "        drawstyle=\"steps-post\")\n",
    "ax.plot(ccp_alphas, test_scores, marker='o', label=\"test\",\n",
    "        drawstyle=\"steps-post\")\n",
    "ax.legend()\n",
    "plt.show()"
   ]
  },
  {
   "cell_type": "markdown",
   "metadata": {},
   "source": [
    "修剪後Decision tree(第二次)"
   ]
  },
  {
   "cell_type": "code",
   "execution_count": 21,
   "metadata": {},
   "outputs": [],
   "source": [
    "from sklearn.tree import DecisionTreeClassifier\n",
    "from sklearn.model_selection import train_test_split\n",
    "from sklearn.metrics import classification_report, confusion_matrix\n",
    "from sklearn import tree\n",
    "import pydot"
   ]
  },
  {
   "cell_type": "code",
   "execution_count": 22,
   "metadata": {},
   "outputs": [
    {
     "data": {
      "text/html": [
       "<div>\n",
       "<style scoped>\n",
       "    .dataframe tbody tr th:only-of-type {\n",
       "        vertical-align: middle;\n",
       "    }\n",
       "\n",
       "    .dataframe tbody tr th {\n",
       "        vertical-align: top;\n",
       "    }\n",
       "\n",
       "    .dataframe thead th {\n",
       "        text-align: right;\n",
       "    }\n",
       "</style>\n",
       "<table border=\"1\" class=\"dataframe\">\n",
       "  <thead>\n",
       "    <tr style=\"text-align: right;\">\n",
       "      <th></th>\n",
       "      <th>Pregnancies</th>\n",
       "      <th>Glucose</th>\n",
       "      <th>BloodPressure</th>\n",
       "      <th>SkinThickness</th>\n",
       "      <th>Insulin</th>\n",
       "      <th>BMI</th>\n",
       "      <th>DiabetesPedigreeFunction</th>\n",
       "      <th>Age</th>\n",
       "      <th>Outcome</th>\n",
       "    </tr>\n",
       "  </thead>\n",
       "  <tbody>\n",
       "    <tr>\n",
       "      <th>0</th>\n",
       "      <td>6</td>\n",
       "      <td>148</td>\n",
       "      <td>72</td>\n",
       "      <td>35</td>\n",
       "      <td>0</td>\n",
       "      <td>33.6</td>\n",
       "      <td>0.627</td>\n",
       "      <td>50</td>\n",
       "      <td>1</td>\n",
       "    </tr>\n",
       "    <tr>\n",
       "      <th>1</th>\n",
       "      <td>1</td>\n",
       "      <td>85</td>\n",
       "      <td>66</td>\n",
       "      <td>29</td>\n",
       "      <td>0</td>\n",
       "      <td>26.6</td>\n",
       "      <td>0.351</td>\n",
       "      <td>31</td>\n",
       "      <td>0</td>\n",
       "    </tr>\n",
       "    <tr>\n",
       "      <th>2</th>\n",
       "      <td>8</td>\n",
       "      <td>183</td>\n",
       "      <td>64</td>\n",
       "      <td>0</td>\n",
       "      <td>0</td>\n",
       "      <td>23.3</td>\n",
       "      <td>0.672</td>\n",
       "      <td>32</td>\n",
       "      <td>1</td>\n",
       "    </tr>\n",
       "    <tr>\n",
       "      <th>3</th>\n",
       "      <td>1</td>\n",
       "      <td>89</td>\n",
       "      <td>66</td>\n",
       "      <td>23</td>\n",
       "      <td>94</td>\n",
       "      <td>28.1</td>\n",
       "      <td>0.167</td>\n",
       "      <td>21</td>\n",
       "      <td>0</td>\n",
       "    </tr>\n",
       "    <tr>\n",
       "      <th>4</th>\n",
       "      <td>0</td>\n",
       "      <td>137</td>\n",
       "      <td>40</td>\n",
       "      <td>35</td>\n",
       "      <td>168</td>\n",
       "      <td>43.1</td>\n",
       "      <td>2.288</td>\n",
       "      <td>33</td>\n",
       "      <td>1</td>\n",
       "    </tr>\n",
       "    <tr>\n",
       "      <th>...</th>\n",
       "      <td>...</td>\n",
       "      <td>...</td>\n",
       "      <td>...</td>\n",
       "      <td>...</td>\n",
       "      <td>...</td>\n",
       "      <td>...</td>\n",
       "      <td>...</td>\n",
       "      <td>...</td>\n",
       "      <td>...</td>\n",
       "    </tr>\n",
       "    <tr>\n",
       "      <th>763</th>\n",
       "      <td>10</td>\n",
       "      <td>101</td>\n",
       "      <td>76</td>\n",
       "      <td>48</td>\n",
       "      <td>180</td>\n",
       "      <td>32.9</td>\n",
       "      <td>0.171</td>\n",
       "      <td>63</td>\n",
       "      <td>0</td>\n",
       "    </tr>\n",
       "    <tr>\n",
       "      <th>764</th>\n",
       "      <td>2</td>\n",
       "      <td>122</td>\n",
       "      <td>70</td>\n",
       "      <td>27</td>\n",
       "      <td>0</td>\n",
       "      <td>36.8</td>\n",
       "      <td>0.340</td>\n",
       "      <td>27</td>\n",
       "      <td>0</td>\n",
       "    </tr>\n",
       "    <tr>\n",
       "      <th>765</th>\n",
       "      <td>5</td>\n",
       "      <td>121</td>\n",
       "      <td>72</td>\n",
       "      <td>23</td>\n",
       "      <td>112</td>\n",
       "      <td>26.2</td>\n",
       "      <td>0.245</td>\n",
       "      <td>30</td>\n",
       "      <td>0</td>\n",
       "    </tr>\n",
       "    <tr>\n",
       "      <th>766</th>\n",
       "      <td>1</td>\n",
       "      <td>126</td>\n",
       "      <td>60</td>\n",
       "      <td>0</td>\n",
       "      <td>0</td>\n",
       "      <td>30.1</td>\n",
       "      <td>0.349</td>\n",
       "      <td>47</td>\n",
       "      <td>1</td>\n",
       "    </tr>\n",
       "    <tr>\n",
       "      <th>767</th>\n",
       "      <td>1</td>\n",
       "      <td>93</td>\n",
       "      <td>70</td>\n",
       "      <td>31</td>\n",
       "      <td>0</td>\n",
       "      <td>30.4</td>\n",
       "      <td>0.315</td>\n",
       "      <td>23</td>\n",
       "      <td>0</td>\n",
       "    </tr>\n",
       "  </tbody>\n",
       "</table>\n",
       "<p>768 rows × 9 columns</p>\n",
       "</div>"
      ],
      "text/plain": [
       "     Pregnancies  Glucose  BloodPressure  SkinThickness  Insulin   BMI  \\\n",
       "0              6      148             72             35        0  33.6   \n",
       "1              1       85             66             29        0  26.6   \n",
       "2              8      183             64              0        0  23.3   \n",
       "3              1       89             66             23       94  28.1   \n",
       "4              0      137             40             35      168  43.1   \n",
       "..           ...      ...            ...            ...      ...   ...   \n",
       "763           10      101             76             48      180  32.9   \n",
       "764            2      122             70             27        0  36.8   \n",
       "765            5      121             72             23      112  26.2   \n",
       "766            1      126             60              0        0  30.1   \n",
       "767            1       93             70             31        0  30.4   \n",
       "\n",
       "     DiabetesPedigreeFunction  Age  Outcome  \n",
       "0                       0.627   50        1  \n",
       "1                       0.351   31        0  \n",
       "2                       0.672   32        1  \n",
       "3                       0.167   21        0  \n",
       "4                       2.288   33        1  \n",
       "..                        ...  ...      ...  \n",
       "763                     0.171   63        0  \n",
       "764                     0.340   27        0  \n",
       "765                     0.245   30        0  \n",
       "766                     0.349   47        1  \n",
       "767                     0.315   23        0  \n",
       "\n",
       "[768 rows x 9 columns]"
      ]
     },
     "execution_count": 22,
     "metadata": {},
     "output_type": "execute_result"
    }
   ],
   "source": [
    "df_9 = pd.read_csv(\"diabetes.csv\")\n",
    "df_10=df_9\n",
    "df_10"
   ]
  },
  {
   "cell_type": "code",
   "execution_count": 24,
   "metadata": {},
   "outputs": [],
   "source": [
    "X = df_10.drop('Outcome', axis=1)\n",
    "y = df_10['Outcome']\n",
    "X_train, X_test, y_train, y_test = train_test_split(X, y, test_size=0.30)"
   ]
  },
  {
   "cell_type": "code",
   "execution_count": 25,
   "metadata": {},
   "outputs": [
    {
     "data": {
      "text/plain": [
       "DecisionTreeClassifier(ccp_alpha=0.008, class_weight=None, criterion='gini',\n",
       "                       max_depth=None, max_features=None, max_leaf_nodes=None,\n",
       "                       min_impurity_decrease=0.0, min_impurity_split=None,\n",
       "                       min_samples_leaf=1, min_samples_split=2,\n",
       "                       min_weight_fraction_leaf=0.0, presort='deprecated',\n",
       "                       random_state=None, splitter='best')"
      ]
     },
     "execution_count": 25,
     "metadata": {},
     "output_type": "execute_result"
    }
   ],
   "source": [
    "classifier = DecisionTreeClassifier(ccp_alpha=0.008)\n",
    "classifier.fit(X_train, y_train)"
   ]
  },
  {
   "cell_type": "code",
   "execution_count": 26,
   "metadata": {},
   "outputs": [],
   "source": [
    "y_pred = classifier.predict(X_test)"
   ]
  },
  {
   "cell_type": "markdown",
   "metadata": {},
   "source": [
    "分類結果"
   ]
  },
  {
   "cell_type": "code",
   "execution_count": 1,
   "metadata": {},
   "outputs": [
    {
     "ename": "NameError",
     "evalue": "name 'confusion_matrix' is not defined",
     "output_type": "error",
     "traceback": [
      "\u001b[1;31m---------------------------------------------------------------------------\u001b[0m",
      "\u001b[1;31mNameError\u001b[0m                                 Traceback (most recent call last)",
      "\u001b[1;32m<ipython-input-1-b1ea281a9612>\u001b[0m in \u001b[0;36m<module>\u001b[1;34m\u001b[0m\n\u001b[1;32m----> 1\u001b[1;33m \u001b[0mprint\u001b[0m\u001b[1;33m(\u001b[0m\u001b[0mconfusion_matrix\u001b[0m\u001b[1;33m(\u001b[0m\u001b[0my_test\u001b[0m\u001b[1;33m,\u001b[0m \u001b[0my_pred\u001b[0m\u001b[1;33m)\u001b[0m\u001b[1;33m)\u001b[0m\u001b[1;33m\u001b[0m\u001b[1;33m\u001b[0m\u001b[0m\n\u001b[0m\u001b[0;32m      2\u001b[0m \u001b[0mprint\u001b[0m\u001b[1;33m(\u001b[0m\u001b[0mclassification_report\u001b[0m\u001b[1;33m(\u001b[0m\u001b[0my_test\u001b[0m\u001b[1;33m,\u001b[0m \u001b[0my_pred\u001b[0m\u001b[1;33m)\u001b[0m\u001b[1;33m)\u001b[0m\u001b[1;33m\u001b[0m\u001b[1;33m\u001b[0m\u001b[0m\n",
      "\u001b[1;31mNameError\u001b[0m: name 'confusion_matrix' is not defined"
     ]
    }
   ],
   "source": [
    "print(confusion_matrix(y_test, y_pred))\n",
    "print(classification_report(y_test, y_pred))"
   ]
  },
  {
   "cell_type": "code",
   "execution_count": 28,
   "metadata": {},
   "outputs": [],
   "source": [
    "dot_data = StringIO()"
   ]
  },
  {
   "cell_type": "code",
   "execution_count": 29,
   "metadata": {},
   "outputs": [],
   "source": [
    "tree.export_graphviz(classifier,\n",
    "        out_file=dot_data,\n",
    "        feature_names=['Pregnancie', 'Glucose', 'BloodPressure', 'SkinThickness',\n",
    "       'Insulin', 'BMI', 'DiabetesPedigreeFunction', 'Age '],\n",
    "        class_names=['0',\"1\"],\n",
    "        filled=True, rounded=True,\n",
    "        impurity=False)"
   ]
  },
  {
   "cell_type": "code",
   "execution_count": 30,
   "metadata": {},
   "outputs": [],
   "source": [
    "graph = pydot.graph_from_dot_data(dot_data.getvalue())"
   ]
  },
  {
   "cell_type": "code",
   "execution_count": 31,
   "metadata": {},
   "outputs": [],
   "source": [
    "graph[0].write_pdf(\"MASS最終.pdf\")"
   ]
  },
  {
   "cell_type": "code",
   "execution_count": 32,
   "metadata": {},
   "outputs": [
    {
     "data": {
      "text/plain": [
       "[Text(167.40000000000003, 199.32, 'X[1] <= 129.5\\ngini = 0.45\\nsamples = 537\\nvalue = [353, 184]'),\n",
       " Text(66.96000000000001, 163.07999999999998, 'X[7] <= 28.5\\ngini = 0.315\\nsamples = 353\\nvalue = [284, 69]'),\n",
       " Text(33.480000000000004, 126.83999999999999, 'gini = 0.131\\nsamples = 198\\nvalue = [184, 14]'),\n",
       " Text(100.44000000000001, 126.83999999999999, 'X[5] <= 26.35\\ngini = 0.458\\nsamples = 155\\nvalue = [100, 55]'),\n",
       " Text(66.96000000000001, 90.6, 'gini = 0.069\\nsamples = 28\\nvalue = [27, 1]'),\n",
       " Text(133.92000000000002, 90.6, 'X[6] <= 1.039\\ngini = 0.489\\nsamples = 127\\nvalue = [73, 54]'),\n",
       " Text(100.44000000000001, 54.359999999999985, 'X[4] <= 142.5\\ngini = 0.472\\nsamples = 118\\nvalue = [73, 45]'),\n",
       " Text(66.96000000000001, 18.119999999999976, 'gini = 0.43\\nsamples = 99\\nvalue = [68, 31]'),\n",
       " Text(133.92000000000002, 18.119999999999976, 'gini = 0.388\\nsamples = 19\\nvalue = [5, 14]'),\n",
       " Text(167.40000000000003, 54.359999999999985, 'gini = 0.0\\nsamples = 9\\nvalue = [0, 9]'),\n",
       " Text(267.84000000000003, 163.07999999999998, 'X[5] <= 29.95\\ngini = 0.469\\nsamples = 184\\nvalue = [69, 115]'),\n",
       " Text(234.36, 126.83999999999999, 'X[1] <= 145.5\\ngini = 0.449\\nsamples = 50\\nvalue = [33, 17]'),\n",
       " Text(200.88000000000002, 90.6, 'gini = 0.204\\nsamples = 26\\nvalue = [23, 3]'),\n",
       " Text(267.84000000000003, 90.6, 'gini = 0.486\\nsamples = 24\\nvalue = [10, 14]'),\n",
       " Text(301.32000000000005, 126.83999999999999, 'gini = 0.393\\nsamples = 134\\nvalue = [36, 98]')]"
      ]
     },
     "execution_count": 32,
     "metadata": {},
     "output_type": "execute_result"
    },
    {
     "data": {
      "image/png": "[encoded data removed]",
      "text/plain": [
       "<Figure size 432x288 with 1 Axes>"
      ]
     },
     "metadata": {
      "needs_background": "light"
     },
     "output_type": "display_data"
    }
   ],
   "source": [
    "tree.plot_tree(classifier)"
   ]
  },
  {
   "cell_type": "code",
   "execution_count": null,
   "metadata": {},
   "outputs": [],
   "source": []
  }
 ],
 "metadata": {
  "kernelspec": {
   "display_name": "Python 3",
   "language": "python",
   "name": "python3"
  },
  "language_info": {
   "codemirror_mode": {
    "name": "ipython",
    "version": 3
   },
   "file_extension": ".py",
   "mimetype": "text/x-python",
   "name": "python",
   "nbconvert_exporter": "python",
   "pygments_lexer": "ipython3",
   "version": "3.7.6"
  }
 },
 "nbformat": 4,
 "nbformat_minor": 4
}
